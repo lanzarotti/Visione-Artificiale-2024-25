{
 "cells": [
  {
   "cell_type": "code",
   "execution_count": 1,
   "metadata": {
    "slideshow": {
     "slide_type": "skip"
    }
   },
   "outputs": [
    {
     "name": "stdout",
     "output_type": "stream",
     "text": [
      "Jupyter environment detected. Enabling Open3D WebVisualizer.\n",
      "[Open3D INFO] WebRTC GUI backend enabled.\n",
      "[Open3D INFO] WebRTCWindowSystem: HTTP handshake server disabled.\n"
     ]
    }
   ],
   "source": [
    "import open3d as o3d\n",
    "import numpy as np\n",
    "import cv2\n",
    "\n",
    "# Don't show the debug information\n",
    "o3d.utility.set_verbosity_level(o3d.utility.VerbosityLevel.Error)"
   ]
  },
  {
   "cell_type": "markdown",
   "metadata": {
    "slideshow": {
     "slide_type": "slide"
    }
   },
   "source": [
    "# 3D\n",
    "<p style=\"text-align:center;\">\n",
    "<img src=\"occhiali.png\" alt=\"drawing\" width=\"500\" style=\"text-align:center;\"/>\n",
    "</p>"
   ]
  },
  {
   "cell_type": "markdown",
   "metadata": {
    "slideshow": {
     "slide_type": "slide"
    }
   },
   "source": [
    "## Rappresentazione immagini 2D vs immagini 3D\n",
    "\n",
    "\n",
    "<p style=\"text-align:center;\">\n",
    "<img src=\"pixelVSvoxel.jpg\" alt=\"drawing\" width=\"500\" style=\"text-align:center;\"/>\n",
    "</p>"
   ]
  },
  {
   "cell_type": "code",
   "execution_count": 2,
   "metadata": {
    "slideshow": {
     "slide_type": "slide"
    }
   },
   "outputs": [
    {
     "name": "stdout",
     "output_type": "stream",
     "text": [
      "img shape:  (349, 778, 3)\n"
     ]
    }
   ],
   "source": [
    "img = cv2.imread(\"occhiali.png\")\n",
    "print(\"img shape: \", img.shape)"
   ]
  },
  {
   "cell_type": "markdown",
   "metadata": {
    "slideshow": {
     "slide_type": "slide"
    }
   },
   "source": [
    "## PointCloud\n",
    "<p style=\"text-align:center;\">\n",
    "<img src=\"point_cloud.png\" alt=\"drawing\" width=\"400\" style=\"text-align:center;\"/>\n",
    "</p>"
   ]
  },
  {
   "cell_type": "code",
   "execution_count": 3,
   "metadata": {
    "slideshow": {
     "slide_type": "subslide"
    }
   },
   "outputs": [
    {
     "name": "stdout",
     "output_type": "stream",
     "text": [
      "points shape:  (10000, 3)\n",
      "center_of_mass:  [0.49877072 0.49762371 0.50654451]\n"
     ]
    }
   ],
   "source": [
    "import numpy as np\n",
    "\n",
    "# Generazione di 5000 punti (x, y, z) casuali in [0, 1]\n",
    "points = np.random.rand(10000, 3)\n",
    "print(\"points shape: \", points.shape)\n",
    "center_of_mass = np.mean(points, axis=0)\n",
    "print(\"center_of_mass: \", center_of_mass)\n",
    "distance_from_center = np.linalg.norm(points - center_of_mass, axis=1)\n",
    "\n",
    "# Colorazione dei punti in base alla distanza dal centro\n",
    "colors = np.zeros((10000, 3))\n",
    "colors[:, :] = distance_from_center.reshape(-1, 1)\n",
    "\n",
    "\n",
    "pcd = o3d.geometry.PointCloud()\n",
    "pcd.points = o3d.utility.Vector3dVector(points)\n",
    "pcd.colors = o3d.utility.Vector3dVector(colors)\n",
    "\n",
    "# Creazione del sistema di riferimento\n",
    "mesh_frame = o3d.geometry.TriangleMesh.create_coordinate_frame(size=0.6, origin=[0, 0, 0])\n",
    "o3d.visualization.draw_geometries([pcd, mesh_frame])\n"
   ]
  },
  {
   "cell_type": "markdown",
   "metadata": {
    "slideshow": {
     "slide_type": "slide"
    }
   },
   "source": [
    "# Mesh"
   ]
  },
  {
   "cell_type": "code",
   "execution_count": 4,
   "metadata": {
    "slideshow": {
     "slide_type": "subslide"
    }
   },
   "outputs": [],
   "source": [
    "bob = o3d.io.read_triangle_mesh(\"bob/bob_tri.obj\", True)\n",
    "bob.paint_uniform_color([0.8, 0.7, 0.1])\n",
    "\n",
    "o3d.visualization.draw_geometries([bob])"
   ]
  },
  {
   "cell_type": "code",
   "execution_count": 5,
   "metadata": {
    "slideshow": {
     "slide_type": "fragment"
    }
   },
   "outputs": [
    {
     "name": "stdout",
     "output_type": "stream",
     "text": [
      "Vertices:\n",
      "[[-6.58735037e-02 -2.40733996e-01 -8.38036016e-02]\n",
      " [-7.08061010e-02 -2.40702003e-01 -6.75237030e-02]\n",
      " [-6.40307963e-02 -2.71822989e-01 -8.27094018e-02]\n",
      " ...\n",
      " [ 4.69967991e-01 -1.52025998e-01  1.16415003e-10]\n",
      " [-1.86077997e-01  9.75613967e-02 -1.16415003e-10]\n",
      " [-6.77003026e-01  4.03037015e-03  8.41544025e-18]]\n",
      "\n",
      "\n",
      "Triangles:\n",
      "[[   0    1    2]\n",
      " [   3    2    1]\n",
      " [   4    5    6]\n",
      " ...\n",
      " [5632 5625 5629]\n",
      " [5632 5634 5620]\n",
      " [5093 5620 5634]]\n"
     ]
    }
   ],
   "source": [
    "print(\"Vertices:\")\n",
    "print(np.asarray(bob.vertices))\n",
    "print(\"\\n\\nTriangles:\")\n",
    "print(np.asarray(bob.triangles))"
   ]
  },
  {
   "cell_type": "markdown",
   "metadata": {
    "slideshow": {
     "slide_type": "slide"
    }
   },
   "source": [
    "# Normali delle facce\n"
   ]
  },
  {
   "cell_type": "code",
   "execution_count": 6,
   "metadata": {
    "slideshow": {
     "slide_type": "subslide"
    }
   },
   "outputs": [],
   "source": [
    "bob = o3d.io.read_triangle_mesh(\"bob/bob_tri.obj\", True)\n",
    "bob.paint_uniform_color([0.8, 0.7, 0.1])\n",
    "bob.compute_triangle_normals()\n",
    "\n",
    "o3d.visualization.draw_geometries([bob])"
   ]
  },
  {
   "cell_type": "markdown",
   "metadata": {
    "slideshow": {
     "slide_type": "slide"
    }
   },
   "source": [
    "# Estensione ai vertici della mesh"
   ]
  },
  {
   "cell_type": "code",
   "execution_count": 7,
   "metadata": {
    "slideshow": {
     "slide_type": "subslide"
    }
   },
   "outputs": [],
   "source": [
    "bob = o3d.io.read_triangle_mesh(\"bob/bob_tri.obj\", True)\n",
    "\n",
    "vertices = np.asarray(bob.vertices)\n",
    "\n",
    "bob_pcd = o3d.geometry.PointCloud()\n",
    "bob_pcd.points = o3d.utility.Vector3dVector(vertices)\n",
    "\n",
    "o3d.visualization.draw_geometries([bob_pcd])"
   ]
  },
  {
   "cell_type": "markdown",
   "metadata": {
    "slideshow": {
     "slide_type": "slide"
    }
   },
   "source": [
    "# Estimate vertex normals"
   ]
  },
  {
   "cell_type": "markdown",
   "metadata": {
    "slideshow": {
     "slide_type": "subslide"
    }
   },
   "source": [
    "$$\n",
    "\\Sigma = \\frac{1}{n} \\sum_{i=1}^{n} (\\mathbf{x}_i - \\bar{\\mathbf{x}}) (\\mathbf{x}_i - \\bar{\\mathbf{x}})^T\n",
    "$$"
   ]
  },
  {
   "cell_type": "code",
   "execution_count": 8,
   "metadata": {},
   "outputs": [
    {
     "name": "stdout",
     "output_type": "stream",
     "text": [
      "(5647, 3)\n",
      "min_bound [-0.91293401 -0.51128101 -0.73159802]\n",
      "max_bound [0.94304299 0.46125001 0.73159802]\n",
      "diameter 2.555662312461616\n"
     ]
    }
   ],
   "source": [
    "print(vertices.shape)\n",
    "# compute bounding box\n",
    "min_bound = vertices.min(axis=0)\n",
    "max_bound = vertices.max(axis=0)\n",
    "print(\"min_bound\", min_bound)\n",
    "print(\"max_bound\", max_bound)\n",
    "\n",
    "# compute max distance between two points\n",
    "diameter = np.linalg.norm(max_bound - min_bound)\n",
    "print(\"diameter\", diameter)"
   ]
  },
  {
   "cell_type": "code",
   "execution_count": 13,
   "metadata": {
    "slideshow": {
     "slide_type": "fragment"
    }
   },
   "outputs": [],
   "source": [
    "bob_pcd.estimate_normals(o3d.geometry.KDTreeSearchParamHybrid(radius=1, max_nn=20))\n",
    "# change points size in visualization\n",
    "o3d.visualization.draw_geometries([bob_pcd])"
   ]
  },
  {
   "cell_type": "code",
   "execution_count": 14,
   "metadata": {
    "slideshow": {
     "slide_type": "subslide"
    }
   },
   "outputs": [],
   "source": [
    "central_pcd = o3d.io.read_point_cloud(\"center.ply\")\n",
    "o3d.visualization.draw_geometries([central_pcd])"
   ]
  },
  {
   "cell_type": "markdown",
   "metadata": {
    "slideshow": {
     "slide_type": "slide"
    }
   },
   "source": [
    "# Matrice di rototraslazione\n",
    "Una generica matrice di rototraslazione è definita come segue:\n",
    "\n",
    "<p style=\"text-align:center;\">\n",
    "<img src=\"traslazione.png\" alt=\"drawing\" width=\"600\" style=\"text-align:center;\"/>\n",
    "</p>"
   ]
  },
  {
   "cell_type": "markdown",
   "metadata": {
    "slideshow": {
     "slide_type": "subslide"
    }
   },
   "source": [
    "### Componente di Traslazione\n",
    "Prendendo come esempio due generiche point cloud, vediamo ora come definire una generica traslazione che permette di allineare una delle due point cloud sull'altra:"
   ]
  },
  {
   "cell_type": "code",
   "execution_count": 16,
   "metadata": {
    "slideshow": {
     "slide_type": "fragment"
    }
   },
   "outputs": [],
   "source": [
    "# SITUAZIONE INIZIALE -> Point cloud disallineate\n",
    "\n",
    "pcl = o3d.geometry.PointCloud()\n",
    "pcl.points = o3d.utility.Vector3dVector((np.random.randn(500,3)\n",
    "))\n",
    "pcl.paint_uniform_color((1,0,0))\n",
    "\n",
    "reference_frame = o3d.geometry.TriangleMesh.create_coordinate_frame(size=3, origin=[0, 0, 0])\n",
    "\n",
    "o3d.visualization.draw_geometries([pcl, reference_frame])\n",
    "\n",
    "traslazione = np.asarray([[1.0, 0.0, 0.0, 3.0],\n",
    "                         [0.0, 1.0, 0.0, 0.0],\n",
    "                         [0.0, 0.0, 1.0, 0.0],\n",
    "                         [0.0, 0.0, 0.0, 1.0]])\n",
    "\n",
    "transformed = o3d.geometry.PointCloud()\n",
    "transformed.points = pcl.points\n",
    "transformed.transform(traslazione)\n",
    "transformed.paint_uniform_color((0,0,1))\n",
    "\n",
    "o3d.visualization.draw_geometries([pcl, transformed, reference_frame])"
   ]
  },
  {
   "cell_type": "code",
   "execution_count": 17,
   "metadata": {
    "slideshow": {
     "slide_type": "subslide"
    }
   },
   "outputs": [],
   "source": [
    "# SITUAZIONE FINALE -> Dopo aver applicato la traslazione\n",
    "\n",
    "traslazione = np.asarray([[1.0, 0.0, 0.0, -3.02],\n",
    "                         [0.0, 1.0, 0.0, 0.0],\n",
    "                         [0.0, 0.0, 1.0, 0.0],\n",
    "                         [0.0, 0.0, 0.0, 1.0]])\n",
    "transformed.transform(traslazione)\n",
    "o3d.visualization.draw_geometries([pcl, transformed, reference_frame])"
   ]
  },
  {
   "cell_type": "markdown",
   "metadata": {},
   "source": [
    "Oltre alla traslazione, come nel nostro esempio, dovremmo intervenire sulla matrice $R$ di rotazione.\n",
    "A questo scopo occorre sapere come costruirla opportunamente.\n"
   ]
  },
  {
   "cell_type": "markdown",
   "metadata": {
    "slideshow": {
     "slide_type": "slide"
    }
   },
   "source": [
    "# Matrici di rotazione\n",
    "\n",
    "In matematica, e in particolare in geometria, una rotazione è una trasformazione del piano o dello spazio euclideo che sposta gli oggetti in modo rigido rispetto ad una retta chiamata asse di rotazione (in genere un asse del sistema di riferimento), di un angolo $\\theta$  \n",
    "\n",
    "\n",
    "Per evitare ambiguità, si fissa una direzione dell'asse, e si considera la rotazione dell'angolo $\\theta$ effettuata in senso antiorario rispetto all'asse orientato. \n",
    "\n",
    "Ad esempio per definire una rotazione nello spazio 3D rispetto all'asse Y di un sistema di riferimento ortonormale, è possibile utilizzare una matrice 3x3 così definita: \n",
    "\n",
    "$$ R=\\begin{bmatrix} \\cos{\\theta} & 0 & \\sin{\\theta} \\\\ 0 & 1 & 0 \\\\ -\\sin{\\theta} & 0 & \\cos{\\theta} \\end{bmatrix}$$\n",
    "\n",
    "Ad ogni punto verrà quindi applicata la precedente rotazione:\n",
    "$$ \\begin{bmatrix} x' \\\\ y' \\\\ z' \\end{bmatrix}=\\begin{bmatrix} \\cos{\\theta} & 0 & \\sin{\\theta} \\\\ 0 & 1 & 0 \\\\ -\\sin{\\theta} & 0 & \\cos{\\theta} \\end{bmatrix}\\begin{bmatrix} x \\\\ y \\\\ z \\end{bmatrix}$$\n",
    "\n"
   ]
  },
  {
   "cell_type": "code",
   "execution_count": 22,
   "metadata": {
    "slideshow": {
     "slide_type": "subslide"
    }
   },
   "outputs": [],
   "source": [
    "# Artificial example \n",
    "\n",
    "# Create a point cloud and a copy of it with small random noise, translated and rotated\n",
    "reference_frame = o3d.geometry.TriangleMesh.create_coordinate_frame(size=3, origin=[0, 0, 0])\n",
    "pcd_r = o3d.geometry.PointCloud()\n",
    "pcd_r.points = o3d.utility.Vector3dVector(np.random.randn(1000, 3)*0.2+np.array([1,1,0]))\n",
    "pcd_r.paint_uniform_color((1,0.5,0))\n",
    "\n",
    "pcd_l = o3d.geometry.PointCloud()\n",
    "pcd_l.points = o3d.utility.Vector3dVector(np.random.randn(1000, 3)*0.2+np.array([-1,1,0])+np.random.randn(3)*0.001)\n",
    "pcd_l.paint_uniform_color((0,1,0))\n",
    "\n",
    "rot_matrix = o3d.geometry.get_rotation_matrix_from_xyz((0,  np.pi/6, 0))\n",
    "pcd_l.rotate(rot_matrix, center=(0,0,0))\n",
    "o3d.visualization.draw_geometries([pcd_r, pcd_l, reference_frame])"
   ]
  },
  {
   "cell_type": "code",
   "execution_count": 45,
   "metadata": {
    "slideshow": {
     "slide_type": "subslide"
    }
   },
   "outputs": [],
   "source": [
    "o3d.visualization.draw_geometries([pcd_r, pcd_l, reference_frame])\n",
    "\n",
    "\n",
    "rot_matrix = o3d.geometry.get_rotation_matrix_from_xyz((0,  -np.pi/6, 0))\n",
    "pcd_l.rotate(rot_matrix, center=(0,0,0))\n",
    "o3d.visualization.draw_geometries([pcd_r, pcd_l, reference_frame])\n",
    "pcd_l.translate((2,0,0))\n",
    "o3d.visualization.draw_geometries([pcd_r, pcd_l, reference_frame])"
   ]
  },
  {
   "cell_type": "markdown",
   "metadata": {
    "slideshow": {
     "slide_type": "slide"
    }
   },
   "source": [
    "# ICP - Iterative Closest Point\n",
    "\n",
    "<p style=\"text-align:center;\">\n",
    "<img src=\"icpgif.webp\" alt=\"drawing\" width=\"600\" style=\"text-align:center;\"/>\n",
    "</p>"
   ]
  },
  {
   "cell_type": "code",
   "execution_count": 18,
   "metadata": {
    "slideshow": {
     "slide_type": "subslide"
    }
   },
   "outputs": [],
   "source": [
    "# Artificial example \n",
    "\n",
    "# Create a point cloud and a copy of it with small random noise, translated and rotated\n",
    "reference_frame = o3d.geometry.TriangleMesh.create_coordinate_frame(size=3, origin=[0, 0, 0])\n",
    "x = np.random.randn(1000)\n",
    "y = np.random.randn(1000)\n",
    "z = np.random.randn(1000)*0.1\n",
    "points_r = np.array([x, y, z]).T\n",
    "\n",
    "pcd_r = o3d.geometry.PointCloud()\n",
    "pcd_r.points = o3d.utility.Vector3dVector(points_r)\n",
    "pcd_r.paint_uniform_color((1,0.5,0))\n",
    "\n",
    "points_l = np.array([x, y, z]).T + np.random.randn(1000, 3)*0.1 + np.array([2, 0, 0])\n",
    "pcd_l = o3d.geometry.PointCloud()\n",
    "pcd_l.points = o3d.utility.Vector3dVector(points_l)\n",
    "pcd_l.paint_uniform_color((0,1,0))\n",
    "\n",
    "rot_matrix = o3d.geometry.get_rotation_matrix_from_xyz((0,  np.pi/6, 0))\n",
    "pcd_l.rotate(rot_matrix, center=(0,0,0))\n",
    "o3d.visualization.draw_geometries([pcd_r, pcd_l, reference_frame])"
   ]
  },
  {
   "cell_type": "code",
   "execution_count": 19,
   "metadata": {
    "slideshow": {
     "slide_type": "subslide"
    }
   },
   "outputs": [
    {
     "name": "stdout",
     "output_type": "stream",
     "text": [
      "RegistrationResult with fitness=9.900000e-01, inlier_rmse=1.510924e-01, and correspondence_set size of 990\n",
      "Access transformation to get result.\n",
      "Transformation is:\n",
      "[[ 8.70177049e-01 -1.72635980e-03 -4.92736160e-01 -1.39356853e+00]\n",
      " [ 2.00462191e-03  9.99997990e-01  3.65705779e-05 -3.58268976e-02]\n",
      " [ 4.92735106e-01 -1.01957258e-03  8.70178761e-01  1.16391367e-02]\n",
      " [ 0.00000000e+00  0.00000000e+00  0.00000000e+00  1.00000000e+00]]\n"
     ]
    }
   ],
   "source": [
    "# Apply ICP to align the two point clouds\n",
    "\n",
    "threshold = 0.5\n",
    "\n",
    "initial_transformation = np.eye(4)\n",
    "rot_matrix = o3d.geometry.get_rotation_matrix_from_xyz((0,  -np.pi/3, 0))\n",
    "translation = np.array([-1, 0, 0])\n",
    "initial_transformation[:3,:3] = rot_matrix\n",
    "initial_transformation[:3,3] = translation\n",
    "\n",
    "reg_p2p = o3d.pipelines.registration.registration_icp(pcd_l, pcd_r, threshold, initial_transformation, o3d.pipelines.registration.TransformationEstimationPointToPoint())\n",
    "print(reg_p2p)\n",
    "print(\"Transformation is:\")\n",
    "print(reg_p2p.transformation)\n",
    "\n",
    "o3d.visualization.draw_geometries([pcd_r, pcd_l, reference_frame])\n",
    "\n",
    "pcd_l.transform(reg_p2p.transformation)\n",
    "\n",
    "o3d.visualization.draw_geometries([pcd_r, pcd_l, reference_frame])"
   ]
  },
  {
   "cell_type": "code",
   "execution_count": 20,
   "metadata": {},
   "outputs": [],
   "source": [
    "def get_random_transformation():\n",
    "    x_rot = np.random.rand()*2*np.pi\n",
    "    y_rot = np.random.rand()*2*np.pi\n",
    "    z_rot = np.random.rand()*2*np.pi\n",
    "    translation = np.random.rand(3)-1\n",
    "    rot_matrix = o3d.geometry.get_rotation_matrix_from_xyz((x_rot, y_rot, z_rot))\n",
    "\n",
    "    transformation = np.eye(4)\n",
    "    transformation[:3, :3] = rot_matrix\n",
    "    transformation[:3, 3] = translation\n",
    "\n",
    "    return transformation\n",
    "\n",
    "def flip_180_around_x():\n",
    "    transformation = np.eye(4)\n",
    "    transformation[1, 1] = -1\n",
    "    transformation[2, 2] = -1\n",
    "\n",
    "    return transformation"
   ]
  },
  {
   "cell_type": "code",
   "execution_count": 21,
   "metadata": {},
   "outputs": [],
   "source": [
    "# apply ICP to align the two point clouds and visualize step by step\n",
    "\n",
    "def draw_registration_result(source, target, transformation):\n",
    "    source_temp = source.transform(transformation)\n",
    "    o3d.visualization.draw_geometries([source_temp, target])\n",
    "\n",
    "def step_by_step_ICP(pcd2, pcd):\n",
    "    threshold = 0.5\n",
    "    initial_transformation = np.eye(4)\n",
    "    for i in range(15):\n",
    "        reg_p2p = o3d.pipelines.registration.registration_icp(pcd2, pcd, threshold, initial_transformation, \n",
    "                                                        o3d.pipelines.registration.TransformationEstimationPointToPoint(),\n",
    "                                                        o3d.pipelines.registration.ICPConvergenceCriteria(max_iteration=10))\n",
    "        draw_registration_result(pcd2, pcd, reg_p2p.transformation)\n",
    "        initial_transformation = reg_p2p.transformation\n"
   ]
  },
  {
   "cell_type": "code",
   "execution_count": 25,
   "metadata": {},
   "outputs": [],
   "source": [
    "# Load a mesh and sample from it to create a point cloud\n",
    "bob = o3d.io.read_triangle_mesh(\"bob/bob_tri.obj\", True)\n",
    "\n",
    "sampled = bob.sample_points_poisson_disk(number_of_points=10000)\n",
    "sampled.paint_uniform_color([0.8, 0.7, 0.1])\n",
    "\n",
    "o3d.visualization.draw_geometries([sampled])"
   ]
  },
  {
   "cell_type": "code",
   "execution_count": 29,
   "metadata": {},
   "outputs": [],
   "source": [
    "pcd = sampled\n",
    "pcd2 = o3d.geometry.PointCloud()\n",
    "pcd2.points = pcd.points\n",
    "pcd2.paint_uniform_color([0.1, 0.1, 0.7])\n",
    "pcd2.transform(get_random_transformation())\n",
    "\n",
    "o3d.visualization.draw_geometries([pcd, pcd2])"
   ]
  },
  {
   "cell_type": "code",
   "execution_count": 30,
   "metadata": {},
   "outputs": [],
   "source": [
    "step_by_step_ICP(pcd2, pcd)"
   ]
  },
  {
   "cell_type": "code",
   "execution_count": 35,
   "metadata": {},
   "outputs": [],
   "source": [
    "pcd3 = bob.sample_points_poisson_disk(number_of_points=2000)\n",
    "pcd3.paint_uniform_color([0.1, 0.1, 0.7])\n",
    "pcd3.transform(get_random_transformation())\n",
    "\n",
    "o3d.visualization.draw_geometries([pcd, pcd3])"
   ]
  },
  {
   "cell_type": "code",
   "execution_count": 36,
   "metadata": {},
   "outputs": [],
   "source": [
    "step_by_step_ICP(pcd3, pcd)"
   ]
  }
 ],
 "metadata": {
  "kernelspec": {
   "display_name": "Python 3",
   "language": "python",
   "name": "python3"
  },
  "language_info": {
   "codemirror_mode": {
    "name": "ipython",
    "version": 3
   },
   "file_extension": ".py",
   "mimetype": "text/x-python",
   "name": "python",
   "nbconvert_exporter": "python",
   "pygments_lexer": "ipython3",
   "version": "3.12.2"
  }
 },
 "nbformat": 4,
 "nbformat_minor": 2
}
